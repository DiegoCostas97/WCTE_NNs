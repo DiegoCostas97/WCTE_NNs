{
 "cells": [
  {
   "cell_type": "code",
   "execution_count": 14,
   "metadata": {},
   "outputs": [
    {
     "data": {
      "text/html": [
       "<style>.container { width:100% !important; }</style>"
      ],
      "text/plain": [
       "<IPython.core.display.HTML object>"
      ]
     },
     "metadata": {},
     "output_type": "display_data"
    },
    {
     "data": {
      "text/html": [
       "<style>div.output_scroll { height: 44em; }</style>"
      ],
      "text/plain": [
       "<IPython.core.display.HTML object>"
      ]
     },
     "metadata": {},
     "output_type": "display_data"
    }
   ],
   "source": [
    "import sys\n",
    "\n",
    "sys.path.append(\"/home/usc/ie/dcr/hk/ml/hit_ana_gnn/utils\")\n",
    "\n",
    "from data_loader import createDataFrame\n",
    "from data_loader import addLabel\n",
    "from data_loader import graphDataset\n",
    "\n",
    "from plot_utils import visualize_graph\n",
    "\n",
    "import matplotlib.pyplot as plt\n",
    "\n",
    "\n",
    "# Wider Cells\n",
    "from IPython.display import display, HTML, Markdown\n",
    "display(HTML(\"<style>.container { width:100% !important; }</style>\"))\n",
    "display(HTML(\"<style>div.output_scroll { height: 44em; }</style>\"))"
   ]
  },
  {
   "cell_type": "code",
   "execution_count": 9,
   "metadata": {},
   "outputs": [],
   "source": [
    "npz = '/mnt/netapp2/Store_uni/home/usc/ie/dcr/software/hk/WCSim/install/nicfVec_5kHzDR00-1350_7Th200ns-400+950.npz'\n",
    "nevents = 30000"
   ]
  },
  {
   "cell_type": "code",
   "execution_count": 12,
   "metadata": {},
   "outputs": [
    {
     "data": {
      "text/html": [
       "<div>\n",
       "<style scoped>\n",
       "    .dataframe tbody tr th:only-of-type {\n",
       "        vertical-align: middle;\n",
       "    }\n",
       "\n",
       "    .dataframe tbody tr th {\n",
       "        vertical-align: top;\n",
       "    }\n",
       "\n",
       "    .dataframe thead th {\n",
       "        text-align: right;\n",
       "    }\n",
       "</style>\n",
       "<table border=\"1\" class=\"dataframe\">\n",
       "  <thead>\n",
       "    <tr style=\"text-align: right;\">\n",
       "      <th></th>\n",
       "      <th>event_id</th>\n",
       "      <th>digi_hit_pmt</th>\n",
       "      <th>digi_hit_charge</th>\n",
       "      <th>digi_hit_time</th>\n",
       "      <th>digi_hit_trigger</th>\n",
       "      <th>digi_hit_x</th>\n",
       "      <th>digi_hit_y</th>\n",
       "      <th>digi_hit_z</th>\n",
       "      <th>digi_hit_truehit_parent_trackID</th>\n",
       "      <th>digi_hit_truehit_creator</th>\n",
       "      <th>digi_hit_truehit_times</th>\n",
       "      <th>digi_hit_r</th>\n",
       "      <th>label</th>\n",
       "    </tr>\n",
       "  </thead>\n",
       "  <tbody>\n",
       "    <tr>\n",
       "      <th>1</th>\n",
       "      <td>1</td>\n",
       "      <td>1494</td>\n",
       "      <td>1.086721</td>\n",
       "      <td>2116.300049</td>\n",
       "      <td>0</td>\n",
       "      <td>-72.398308</td>\n",
       "      <td>81.252716</td>\n",
       "      <td>-139.803162</td>\n",
       "      <td>[-1]</td>\n",
       "      <td>[darkNoise]</td>\n",
       "      <td>[1167.1127200126648]</td>\n",
       "      <td>177.167838</td>\n",
       "      <td>0</td>\n",
       "    </tr>\n",
       "    <tr>\n",
       "      <th>2</th>\n",
       "      <td>1</td>\n",
       "      <td>727</td>\n",
       "      <td>1.050667</td>\n",
       "      <td>2030.5</td>\n",
       "      <td>0</td>\n",
       "      <td>105.411903</td>\n",
       "      <td>-107.78112</td>\n",
       "      <td>-111.376305</td>\n",
       "      <td>[-1]</td>\n",
       "      <td>[darkNoise]</td>\n",
       "      <td>[1081.1512470245361]</td>\n",
       "      <td>187.438311</td>\n",
       "      <td>0</td>\n",
       "    </tr>\n",
       "    <tr>\n",
       "      <th>3</th>\n",
       "      <td>1</td>\n",
       "      <td>892</td>\n",
       "      <td>1.534663</td>\n",
       "      <td>1815.900024</td>\n",
       "      <td>0</td>\n",
       "      <td>-120.387672</td>\n",
       "      <td>-108.205215</td>\n",
       "      <td>101.455643</td>\n",
       "      <td>[-1]</td>\n",
       "      <td>[darkNoise]</td>\n",
       "      <td>[866.1449700593948]</td>\n",
       "      <td>191.036143</td>\n",
       "      <td>0</td>\n",
       "    </tr>\n",
       "    <tr>\n",
       "      <th>4</th>\n",
       "      <td>1</td>\n",
       "      <td>1282</td>\n",
       "      <td>0.529772</td>\n",
       "      <td>1725.300049</td>\n",
       "      <td>0</td>\n",
       "      <td>-123.728966</td>\n",
       "      <td>-138.782364</td>\n",
       "      <td>71.386963</td>\n",
       "      <td>[-1]</td>\n",
       "      <td>[darkNoise]</td>\n",
       "      <td>[775.2003014087677]</td>\n",
       "      <td>199.161994</td>\n",
       "      <td>0</td>\n",
       "    </tr>\n",
       "    <tr>\n",
       "      <th>5</th>\n",
       "      <td>1</td>\n",
       "      <td>949</td>\n",
       "      <td>0.813465</td>\n",
       "      <td>1597.900024</td>\n",
       "      <td>0</td>\n",
       "      <td>-13.386964</td>\n",
       "      <td>-138.782364</td>\n",
       "      <td>50.271034</td>\n",
       "      <td>[-1]</td>\n",
       "      <td>[darkNoise]</td>\n",
       "      <td>[648.6538141965866]</td>\n",
       "      <td>148.212456</td>\n",
       "      <td>0</td>\n",
       "    </tr>\n",
       "  </tbody>\n",
       "</table>\n",
       "</div>"
      ],
      "text/plain": [
       "   event_id digi_hit_pmt digi_hit_charge digi_hit_time digi_hit_trigger   \n",
       "1         1         1494        1.086721   2116.300049                0  \\\n",
       "2         1          727        1.050667        2030.5                0   \n",
       "3         1          892        1.534663   1815.900024                0   \n",
       "4         1         1282        0.529772   1725.300049                0   \n",
       "5         1          949        0.813465   1597.900024                0   \n",
       "\n",
       "   digi_hit_x  digi_hit_y  digi_hit_z digi_hit_truehit_parent_trackID   \n",
       "1  -72.398308   81.252716 -139.803162                            [-1]  \\\n",
       "2  105.411903  -107.78112 -111.376305                            [-1]   \n",
       "3 -120.387672 -108.205215  101.455643                            [-1]   \n",
       "4 -123.728966 -138.782364   71.386963                            [-1]   \n",
       "5  -13.386964 -138.782364   50.271034                            [-1]   \n",
       "\n",
       "  digi_hit_truehit_creator digi_hit_truehit_times  digi_hit_r  label  \n",
       "1              [darkNoise]   [1167.1127200126648]  177.167838      0  \n",
       "2              [darkNoise]   [1081.1512470245361]  187.438311      0  \n",
       "3              [darkNoise]    [866.1449700593948]  191.036143      0  \n",
       "4              [darkNoise]    [775.2003014087677]  199.161994      0  \n",
       "5              [darkNoise]    [648.6538141965866]  148.212456      0  "
      ]
     },
     "execution_count": 12,
     "metadata": {},
     "output_type": "execute_result"
    }
   ],
   "source": [
    "df = createDataFrame(npz, nevents)\n",
    "df = addLabel(df)\n",
    "\n",
    "df.head()"
   ]
  },
  {
   "cell_type": "code",
   "execution_count": 13,
   "metadata": {},
   "outputs": [
    {
     "name": "stdout",
     "output_type": "stream",
     "text": [
      "Skipping event 2919 due to error: Repeated hit (105.43885, 66.31584, -111.32409) in event 2919\n",
      "Skipping event 3419 due to error: Repeated hit (116.38686, -55.863213, -105.45645) in event 3419\n",
      "Skipping event 5178 due to error: Repeated hit (147.98482, 1.9567119, 52.81901) in event 5178\n",
      "Skipping event 5800 due to error: Repeated hit (45.582325, 73.52375, 150.98235) in event 5800\n",
      "Skipping event 5821 due to error: Repeated hit (-141.98975, -86.90921, 67.29238) in event 5821\n",
      "Skipping event 5863 due to error: Repeated hit (60.0557, -84.81039, -144.98727) in event 5863\n",
      "Skipping event 7036 due to error: Repeated hit (139.01064, -42.47625, -74.31164) in event 7036\n",
      "Skipping event 13397 due to error: Repeated hit (-99.99125, -42.47625, 121.852066) in event 13397\n",
      "Skipping event 18038 due to error: Repeated hit (-151.9463, -100.47625, 2.476045e-14) in event 18038\n",
      "Skipping event 20313 due to error: Repeated hit (144.79228, -100.47625, -50.9662) in event 20313\n",
      "Skipping event 20783 due to error: Repeated hit (-52.889732, -87.08929, -147.88388) in event 20783\n",
      "Skipping event 21375 due to error: Repeated hit (4.217467, 66.21888, -153.29242) in event 21375\n",
      "Skipping event 23310 due to error: Repeated hit (120.16149, -135.19, -65.20791) in event 23310\n",
      "Skipping event 24956 due to error: Repeated hit (-53.838512, 135.19, -7.20791) in event 24956\n",
      "Skipping event 25184 due to error: Repeated hit (108.271034, 138.78236, 13.386964) in event 25184\n",
      "Skipping event 25748 due to error: Repeated hit (-140.00977, -35.171383, 62.5589) in event 25748\n",
      "Skipping event 27297 due to error: Repeated hit (144.79228, 73.52375, -50.9662) in event 27297\n",
      "Skipping event 28502 due to error: Repeated hit (-58.14733, -42.47625, -140.38008) in event 28502\n",
      "Skipping event 28526 due to error: Repeated hit (141.98975, 1.9567119, 67.29238) in event 28526\n"
     ]
    }
   ],
   "source": [
    "gnnDataset = graphDataset(file=npz, df=df, num_neigh=5, num_classes=2, directed=False, classic=True, all_connected=False)"
   ]
  },
  {
   "cell_type": "code",
   "execution_count": null,
   "metadata": {},
   "outputs": [],
   "source": [
    "graph = dataset[7]  # Get the first graph object.\n",
    "\n",
    "print(data)\n",
    "print('==============================================================')\n",
    "\n",
    "# Gather some statistics about the graph.\n",
    "print(f'Number of nodes: {data.num_nodes}')\n",
    "print(f'Number of edges: {data.num_edges}')\n",
    "print(f'Average node degree: {data.num_edges / data.num_nodes:.2f}')\n",
    "print(f'Has isolated nodes: {data.has_isolated_nodes()}')\n",
    "print(f'Has self-loops: {data.has_self_loops()}')\n",
    "print(f'Is undirected: {data.is_undirected()}')"
   ]
  }
 ],
 "metadata": {
  "kernelspec": {
   "display_name": "Python 3.9 (myenv)",
   "language": "python",
   "name": "myenv"
  },
  "language_info": {
   "codemirror_mode": {
    "name": "ipython",
    "version": 3
   },
   "file_extension": ".py",
   "mimetype": "text/x-python",
   "name": "python",
   "nbconvert_exporter": "python",
   "pygments_lexer": "ipython3",
   "version": "3.9.9"
  }
 },
 "nbformat": 4,
 "nbformat_minor": 4
}
